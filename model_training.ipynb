{
 "cells": [
  {
   "cell_type": "code",
   "execution_count": 23,
   "metadata": {},
   "outputs": [
    {
     "name": "stdout",
     "output_type": "stream",
     "text": [
      "Collecting scikit-optimize\n",
      "  Using cached scikit_optimize-0.8.1-py2.py3-none-any.whl (101 kB)\n",
      "Collecting pyaml>=16.9\n",
      "  Using cached pyaml-20.4.0-py2.py3-none-any.whl (17 kB)\n",
      "Requirement already satisfied: numpy>=1.13.3 in c:\\users\\vartotojas\\anaconda3\\lib\\site-packages (from scikit-optimize) (1.19.2)\n",
      "Requirement already satisfied: scikit-learn>=0.20.0 in c:\\users\\vartotojas\\anaconda3\\lib\\site-packages (from scikit-optimize) (0.23.2)\n",
      "Requirement already satisfied: joblib>=0.11 in c:\\users\\vartotojas\\anaconda3\\lib\\site-packages (from scikit-optimize) (0.17.0)\n",
      "Requirement already satisfied: scipy>=0.19.1 in c:\\users\\vartotojas\\anaconda3\\lib\\site-packages (from scikit-optimize) (1.5.2)\n",
      "Requirement already satisfied: PyYAML in c:\\users\\vartotojas\\anaconda3\\lib\\site-packages (from pyaml>=16.9->scikit-optimize) (5.3.1)\n",
      "Requirement already satisfied: threadpoolctl>=2.0.0 in c:\\users\\vartotojas\\anaconda3\\lib\\site-packages (from scikit-learn>=0.20.0->scikit-optimize) (2.1.0)\n",
      "Installing collected packages: pyaml, scikit-optimize\n",
      "Successfully installed pyaml-20.4.0 scikit-optimize-0.8.1\n"
     ]
    }
   ],
   "source": [
    "!pip install scikit-optimize"
   ]
  },
  {
   "cell_type": "code",
   "execution_count": 2,
   "metadata": {},
   "outputs": [],
   "source": [
    "%load_ext dotenv\n",
    "%dotenv\n",
    "%load_ext autoreload\n",
    "%autoreload 2\n",
    "%matplotlib inline"
   ]
  },
  {
   "cell_type": "code",
   "execution_count": 5,
   "metadata": {},
   "outputs": [],
   "source": [
    "import numerai\n",
    "import os"
   ]
  },
  {
   "cell_type": "code",
   "execution_count": 15,
   "metadata": {},
   "outputs": [],
   "source": [
    "data_getter = numerai.data.DataGetter()"
   ]
  },
  {
   "cell_type": "code",
   "execution_count": 16,
   "metadata": {},
   "outputs": [
    {
     "name": "stdout",
     "output_type": "stream",
     "text": [
      "Getting training data from numerai_dataset_260\\numerai_training_data.csv\n",
      "\n",
      "No columns specified to select, fetching all matching pattern ['feature', 'id', 'target', 'era']\n",
      "\n",
      "Reducing memory usage by converting features and target to integers\n",
      "\n",
      "Setting id and era columns as index\n"
     ]
    }
   ],
   "source": [
    "train_data = data_getter.get_data(load_from='numerai_dataset_260')"
   ]
  },
  {
   "cell_type": "code",
   "execution_count": 29,
   "metadata": {},
   "outputs": [
    {
     "data": {
      "text/plain": [
       "Estimator: RandomForestClassifier(class_weight='balanced', n_jobs=-1, random_state=42)\n",
       "Search spaces: {'max_features': Real(low=0.05, high=0.5, prior='uniform', transform='identity'), 'max_samples': Real(low=0.1, high=0.99, prior='uniform', transform='identity'), 'min_samples_leaf': Integer(low=1, high=100, prior='uniform', transform='identity')}\n",
       "Optimization iteraions: 10\n",
       "Scoring function: make_scorer(sharpe)\n",
       "Cross validation: CustomSplitter(n_splits=3)\n",
       "Number of CV splits: 3"
      ]
     },
     "execution_count": 29,
     "metadata": {},
     "output_type": "execute_result"
    }
   ],
   "source": [
    "optimizer = numerai.train.CustomBayesSearch(model_name='random_forest')\n",
    "optimizer"
   ]
  },
  {
   "cell_type": "code",
   "execution_count": 27,
   "metadata": {},
   "outputs": [],
   "source": [
    "feature_cols = [col for col in train_data.columns if 'feature' in col]\n",
    "X, y = train_data[feature_cols], train_data.target"
   ]
  },
  {
   "cell_type": "code",
   "execution_count": null,
   "metadata": {},
   "outputs": [
    {
     "name": "stdout",
     "output_type": "stream",
     "text": [
      "Iteration No: 1 started. Evaluating function at random point.\n"
     ]
    }
   ],
   "source": [
    "optimizer.fit(X, y)"
   ]
  }
 ],
 "metadata": {
  "kernelspec": {
   "display_name": "Python 3",
   "language": "python",
   "name": "python3"
  },
  "language_info": {
   "codemirror_mode": {
    "name": "ipython",
    "version": 3
   },
   "file_extension": ".py",
   "mimetype": "text/x-python",
   "name": "python",
   "nbconvert_exporter": "python",
   "pygments_lexer": "ipython3",
   "version": "3.8.5"
  }
 },
 "nbformat": 4,
 "nbformat_minor": 1
}
